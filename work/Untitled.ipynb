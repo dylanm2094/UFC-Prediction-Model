{
 "cells": [
  {
   "cell_type": "code",
   "execution_count": 1,
   "metadata": {},
   "outputs": [],
   "source": [
    "from createdata.scrape_fighter_details2 import create_fighter_data_csv"
   ]
  },
  {
   "cell_type": "code",
   "execution_count": 2,
   "metadata": {},
   "outputs": [
    {
     "name": "stdout",
     "output_type": "stream",
     "text": [
      "Scraping all fight data: \n",
      "Progress: |--------------------------------------------------| 0.00% Complete{'Stipe Miocic ': 'http://ufcstats.com/fighter-details/d28dee5c705991df', 'Daniel Cormier ': 'http://ufcstats.com/fighter-details/d967f0128c323de6', \"Sean O'Malley \": 'http://ufcstats.com/fighter-details/b50a426a33da0012', 'Marlon Vera ': 'http://ufcstats.com/fighter-details/7c7332319c14094c', 'Junior Dos Santos ': 'http://ufcstats.com/fighter-details/63def5a5662a6917', 'Jairzinho Rozenstruik ': 'http://ufcstats.com/fighter-details/2cd428e9606856fd', 'Herbert Burns ': 'http://ufcstats.com/fighter-details/4f140403000158b5', 'Daniel Pineda ': 'http://ufcstats.com/fighter-details/361d49960a196976', 'John Dodson ': 'http://ufcstats.com/fighter-details/99506df1af6c8b3b', 'Merab Dvalishvili ': 'http://ufcstats.com/fighter-details/c03520b5c88ed6b4', 'Jim Miller ': 'http://ufcstats.com/fighter-details/d1941565abf50b16', 'Vinc Pichel ': 'http://ufcstats.com/fighter-details/c77a953488e5607d', 'Felice Herrig ': 'http://ufcstats.com/fighter-details/b6850671a008bf9a', 'Virna Jandiroba ': 'http://ufcstats.com/fighter-details/7dda2cf308f24a02', 'TJ Brown ': 'http://ufcstats.com/fighter-details/d31cbcdd7d69536d', 'Danny Chavez ': 'http://ufcstats.com/fighter-details/0de720c0f1d4ab9c', 'Ashley Yoder ': 'http://ufcstats.com/fighter-details/b4c6c904a9ffc5e8', 'Livinha Souza ': 'http://ufcstats.com/fighter-details/dab8cfbb6b1db10a', 'Chris Daukaus ': 'http://ufcstats.com/fighter-details/d0aaedcf7ccd0b45', 'Parker Porter ': 'http://ufcstats.com/fighter-details/ac40f7e3cbecdda4', 'Kai Kamaka ': 'http://ufcstats.com/fighter-details/eee0ef3e2b14816b', 'Tony Kelley ': 'http://ufcstats.com/fighter-details/1a08b01fdabb6ae2'}\n",
      "Progress: |██████████████████████████████████████████████████| 100.00% Complete\n",
      "Scraping all fighter data: \n",
      "Progress: |██████████████████████████████████████████████████| 100.00% Complete\n"
     ]
    }
   ],
   "source": [
    "event_link = ['http://ufcstats.com/event-details/bda04c573563cc2e']\n",
    "create_fighter_data_csv(event_link)"
   ]
  },
  {
   "cell_type": "code",
   "execution_count": 1,
   "metadata": {},
   "outputs": [],
   "source": [
    "from createdata.scrape_fighter_details import create_fighter_data_csv"
   ]
  },
  {
   "cell_type": "code",
   "execution_count": 3,
   "metadata": {},
   "outputs": [
    {
     "name": "stdout",
     "output_type": "stream",
     "text": [
      "Scraping all fighter names and links: \n",
      "Progress: |██████████████████████████████████████████████████| 100.00% Complete\n",
      "{'Al Iaquinta': 'http://ufcstats.com/fighter-details/59279a7c978f7da0', 'Khadis Ibragimov': 'http://ufcstats.com/fighter-details/c3218c810959d279', 'Minoki Ichihara': 'http://ufcstats.com/fighter-details/4565d435005319c0', 'Dan Ige': 'http://ufcstats.com/fighter-details/82a5152216251682', 'Valeri Ignatov': 'http://ufcstats.com/fighter-details/7b6ce3a9460565b5', 'Sergey Ignatov': 'http://ufcstats.com/fighter-details/df9e9c1f65805d29', 'Fabiano Iha': 'http://ufcstats.com/fighter-details/263ebd4a669e1e98', 'Seichi Ikemoto': 'http://ufcstats.com/fighter-details/81f38d1640c4e70d', 'Mikhail Iloukhine': 'http://ufcstats.com/fighter-details/b71667c778b6d9e5', 'Zelim Imadaev': 'http://ufcstats.com/fighter-details/7f0f171414d0a287', 'Yusuke Imamura': 'http://ufcstats.com/fighter-details/2ce6541127b0e232', 'Masakazu Imanari': 'http://ufcstats.com/fighter-details/a4dd5c9a75763295', 'Brad Imes': 'http://ufcstats.com/fighter-details/4908c5ee68a50ee5', 'Chris Indich': 'http://ufcstats.com/fighter-details/d5b7fac960e58920', 'Chris Inman': 'http://ufcstats.com/fighter-details/f0a381ba65d2a933', 'Guto Inocente': 'http://ufcstats.com/fighter-details/e7fe5315b1efeb92', 'Enson Inoue': 'http://ufcstats.com/fighter-details/0cf935519d439ba6', 'Egan Inoue': 'http://ufcstats.com/fighter-details/37a6c95201592fea', 'Katsuya Inoue': 'http://ufcstats.com/fighter-details/b5882371e2a3900d', 'Takeshi Inoue': 'http://ufcstats.com/fighter-details/a61a0cd2829e5d4e', 'Naoki Inoue': 'http://ufcstats.com/fighter-details/199eb7cf6ae90294', 'Mizuki Inoue': 'http://ufcstats.com/fighter-details/43a59ce3bb40449e', 'Jorge Interiano': 'http://ufcstats.com/fighter-details/1e75e6c9de99fa76', 'Jason Ireland': 'http://ufcstats.com/fighter-details/05a0556072931f01', 'James Irvin': 'http://ufcstats.com/fighter-details/a7f4d0902bb64092'}\n",
      "Scraping all fighter data: \n",
      "Progress: |██████████████████████████████████████████████████| 100.00% Complete\n"
     ]
    }
   ],
   "source": [
    "event_link = 'http://ufcstats.com/statistics/fighters?char=i'\n",
    "create_fighter_data_csv(event_link)"
   ]
  },
  {
   "cell_type": "code",
   "execution_count": null,
   "metadata": {},
   "outputs": [],
   "source": []
  }
 ],
 "metadata": {
  "kernelspec": {
   "display_name": "Python 3",
   "language": "python",
   "name": "python3"
  },
  "language_info": {
   "codemirror_mode": {
    "name": "ipython",
    "version": 3
   },
   "file_extension": ".py",
   "mimetype": "text/x-python",
   "name": "python",
   "nbconvert_exporter": "python",
   "pygments_lexer": "ipython3",
   "version": "3.6.10"
  }
 },
 "nbformat": 4,
 "nbformat_minor": 4
}
